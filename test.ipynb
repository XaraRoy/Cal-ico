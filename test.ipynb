{
 "cells": [
  {
   "cell_type": "code",
   "execution_count": 1,
   "metadata": {},
   "outputs": [
    {
     "name": "stdout",
     "output_type": "stream",
     "text": [
      "    October 2023\n",
      "Mo Tu We Th Fr Sa Su\n",
      "                   1\n",
      " 2  3  4  5  6  7  8\n",
      " 9 10 11 12 13 14 15\n",
      "16 17 18 19 20 21 22\n",
      "23 24 25 26 27 28 29\n",
      "30 31\n"
     ]
    }
   ],
   "source": [
    "# import module\n",
    "import calendar\n",
    "# create object\n",
    "text_cal = calendar.TextCalendar(firstweekday=0)\n",
    "year = 2023\n",
    "month = 10\n",
    "text_cal.formatmonth(year, month, w=0, l=0)\n",
    "text_cal.prmonth(year, month, w=0, l=0)"
   ]
  },
  {
   "cell_type": "code",
   "execution_count": 2,
   "metadata": {},
   "outputs": [],
   "source": [
    "def makeCal():\n",
    "    text_cal = calendar.TextCalendar(firstweekday=0)\n",
    "    year = 2023\n",
    "    month = 10\n",
    "    text_cal.formatmonth(year, month, w=0, l=0)\n",
    "    text_cal.prmonth(year, month, w=0, l=0)\n",
    "    return"
   ]
  },
  {
   "cell_type": "code",
   "execution_count": 25,
   "metadata": {},
   "outputs": [
    {
     "name": "stdout",
     "output_type": "stream",
     "text": [
      "<head>\n",
      "<link rel=\"stylesheet\" type=\"text/css\" href=\"static/css/table.css\"> \n",
      "</head>\n",
      "<body>\n",
      "<table border=\"1\" cellpadding=\"0\" cellspacing=\"0\" class=\"month\">\n",
      "<tr><th colspan=\"7\" class=\"month\">October 2023</th></tr>\n",
      "<tr><th class=\"mon\">Mon</th><th class=\"tue\">Tue</th><th class=\"wed\">Wed</th><th class=\"thu\">Thu</th><th class=\"fri\">Fri</th><th class=\"sat\">Sat</th><th class=\"sun\">Sun</th></tr>\n",
      "<tr><td class=\"noday\">&nbsp;</td><td class=\"noday\">&nbsp;</td><td class=\"noday\">&nbsp;</td><td class=\"noday\">&nbsp;</td><td class=\"noday\">&nbsp;</td><td class=\"noday\">&nbsp;</td><td class=\"sun\">1</td></tr>\n",
      "<tr><td class=\"mon\">2</td><td class=\"tue\">3</td><td class=\"wed\">4</td><td class=\"thu\">5</td><td class=\"fri\">6</td><td class=\"sat\">7</td><td class=\"sun\">8</td></tr>\n",
      "<tr><td class=\"mon\">9</td><td class=\"tue\">10</td><td class=\"wed\">11</td><td class=\"thu\">12</td><td class=\"fri\">13</td><td class=\"sat\">14</td><td class=\"sun\">15</td></tr>\n",
      "<tr><td class=\"mon\">16</td><td class=\"tue\">17</td><td class=\"wed\">18</td><td class=\"thu\">19</td><td class=\"fri\">20</td><td class=\"sat\">21</td><td class=\"sun\">22</td></tr>\n",
      "<tr><td class=\"mon\">23</td><td class=\"tue\">24</td><td class=\"wed\">25</td><td class=\"thu\">26</td><td class=\"fri\">27</td><td class=\"sat\">28</td><td class=\"sun\">29</td></tr>\n",
      "<tr><td class=\"mon\">30</td><td class=\"tue\">31</td><td class=\"noday\">&nbsp;</td><td class=\"noday\">&nbsp;</td><td class=\"noday\">&nbsp;</td><td class=\"noday\">&nbsp;</td><td class=\"noday\">&nbsp;</td></tr>\n",
      "</table>\n",
      "\n",
      "</body>\n",
      "\n"
     ]
    }
   ],
   "source": [
    "def htmlCal():\n",
    "    html_cal = calendar.HTMLCalendar(firstweekday=0)\n",
    "    year = 2023\n",
    "    month = 10\n",
    "    styles = '<link rel=\"stylesheet\" type=\"text/css\" href=\"static/css/table.css\"> '\n",
    "    head = '<head>' + '\\n' + styles + '\\n' + '</head>' + \"\\n\"\n",
    "    cal = html_cal.formatmonth(year, month).replace('border=\"0\"', 'border=\"1\"').replace('class=\"month>',\n",
    "               'class=\"month><button onclick=\"prevMonth()\">Previous</button>').replace('</th',\n",
    "\n",
    "               '<button onclick=\"nextMonth()\">Next</button></th'\n",
    "                                                                                        )\n",
    "    body = '<body>' + '\\n' + cal + '\\n' + '</body>' + \"\\n\"\n",
    "    html = head + body\n",
    "    print(html)\n",
    "\n",
    "htmlCal()"
   ]
  },
  {
   "cell_type": "code",
   "execution_count": 22,
   "metadata": {},
   "outputs": [
    {
     "data": {
      "text/plain": [
       "'<link rel=\"stylesheet\" type=\"text/css\" href=\"static/css/table.css\"> \\n<link rel=\"stylesheet\" type=\"text/css\" href=\"static/css/main.css\"> \\n'"
      ]
     },
     "execution_count": 22,
     "metadata": {},
     "output_type": "execute_result"
    }
   ],
   "source": [
    "\n",
    "def stylesheetlink(name):\n",
    "    return f'<link rel=\"stylesheet\" type=\"text/css\" href=\"static/css/{name}.css\"> \\n'\n",
    "\n",
    "stylesheetlink('table') + stylesheetlink('main')"
   ]
  },
  {
   "cell_type": "code",
   "execution_count": null,
   "metadata": {},
   "outputs": [],
   "source": []
  }
 ],
 "metadata": {
  "kernelspec": {
   "display_name": ".venv",
   "language": "python",
   "name": "python3"
  },
  "language_info": {
   "codemirror_mode": {
    "name": "ipython",
    "version": 3
   },
   "file_extension": ".py",
   "mimetype": "text/x-python",
   "name": "python",
   "nbconvert_exporter": "python",
   "pygments_lexer": "ipython3",
   "version": "3.11.3"
  },
  "orig_nbformat": 4
 },
 "nbformat": 4,
 "nbformat_minor": 2
}
